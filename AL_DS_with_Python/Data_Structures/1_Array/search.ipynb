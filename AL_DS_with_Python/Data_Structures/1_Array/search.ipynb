{
 "cells": [
  {
   "cell_type": "markdown",
   "id": "53861a94",
   "metadata": {},
   "source": [
    "<center><font size=6 color=\"#00416d\">Searching in an Array</font></center>"
   ]
  },
  {
   "cell_type": "markdown",
   "id": "175e65c2",
   "metadata": {},
   "source": [
    "This program helps in looking for an element in an array.\n",
    "if element found then it will return index of that element\n",
    "else it will return -1\n",
    "\n",
    "<strong>TIME COMPLEXITY:</strong><br>\n",
    "<table>\n",
    "    <tr>\n",
    "        <td>Best Case  :</td>\n",
    "        <td> O(1)</td>\n",
    "    </tr>\n",
    "    <tr>\n",
    "        <td>Worst Case :</td>\n",
    "        <td>O(N+1)</td>\n",
    "    </tr>\n",
    "</table>"
   ]
  },
  {
   "cell_type": "code",
   "execution_count": 8,
   "id": "c3ec15dd",
   "metadata": {},
   "outputs": [],
   "source": [
    "def search(arr: list, key: int) -> int:\n",
    "    \"\"\"\n",
    "    :param arr: array/list of element\n",
    "    :param key: Element to find in the array/list\n",
    "    :return   : index if element found else -1\n",
    "    \"\"\"\n",
    "    i = 0\n",
    "    while i < len(arr):\n",
    "        if arr[i] == key:\n",
    "            return i\n",
    "        else:\n",
    "            i = i + 1\n",
    "    else:\n",
    "        return -1"
   ]
  },
  {
   "cell_type": "code",
   "execution_count": 9,
   "id": "dd3f226c",
   "metadata": {},
   "outputs": [
    {
     "name": "stdout",
     "output_type": "stream",
     "text": [
      "1\n"
     ]
    }
   ],
   "source": [
    "print(search([3, 4, 5, 15, 4], 4))"
   ]
  },
  {
   "cell_type": "code",
   "execution_count": 12,
   "id": "c9ea6b19",
   "metadata": {},
   "outputs": [
    {
     "name": "stdout",
     "output_type": "stream",
     "text": [
      "6\n"
     ]
    }
   ],
   "source": [
    "print(search([200, 500, 9, 67, 400, 678, 89], 89))"
   ]
  },
  {
   "cell_type": "code",
   "execution_count": 11,
   "id": "20f404a6",
   "metadata": {},
   "outputs": [
    {
     "name": "stdout",
     "output_type": "stream",
     "text": [
      "-1\n"
     ]
    }
   ],
   "source": [
    "print(search([200, 500, 9, 67, 400, 678, 89], 10))"
   ]
  },
  {
   "cell_type": "code",
   "execution_count": null,
   "id": "baf4f2b6",
   "metadata": {},
   "outputs": [],
   "source": []
  }
 ],
 "metadata": {
  "kernelspec": {
   "display_name": "Python 3",
   "language": "python",
   "name": "python3"
  },
  "language_info": {
   "codemirror_mode": {
    "name": "ipython",
    "version": 3
   },
   "file_extension": ".py",
   "mimetype": "text/x-python",
   "name": "python",
   "nbconvert_exporter": "python",
   "pygments_lexer": "ipython3",
   "version": "3.9.5"
  }
 },
 "nbformat": 4,
 "nbformat_minor": 5
}
