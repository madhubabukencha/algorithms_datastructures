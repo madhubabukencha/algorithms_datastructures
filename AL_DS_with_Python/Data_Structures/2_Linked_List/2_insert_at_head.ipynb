{
 "cells": [
  {
   "cell_type": "markdown",
   "id": "b59d23c2",
   "metadata": {},
   "source": [
    "<center><font size=6 color=\"#00416d\">Insert Element at the Head location</font></center>"
   ]
  },
  {
   "cell_type": "markdown",
   "id": "91a32e78",
   "metadata": {},
   "source": [
    "In this notebook we learn how to insert element at the first position everytime in Singly Linked List"
   ]
  },
  {
   "cell_type": "code",
   "execution_count": 3,
   "id": "34710284",
   "metadata": {},
   "outputs": [],
   "source": [
    "class Node:\n",
    "    \"\"\"\n",
    "    Each node in singly linked list contains value, next node reference\n",
    "    \"\"\"\n",
    "    def __init__(self, value):\n",
    "        self.value = value\n",
    "        self.next = None\n",
    "\n",
    "class LinkedList():\n",
    "    def __init__(self, head):\n",
    "        self.head = head"
   ]
  },
  {
   "cell_type": "code",
   "execution_count": 26,
   "id": "20ec3e3e",
   "metadata": {},
   "outputs": [],
   "source": [
    "# Considering linked_list is empty\n",
    "linked_list = LinkedList(None)\n",
    "def insert_at_first(element):\n",
    "    global linked_list\n",
    "    # If it is empty then first_node will be head\n",
    "    if linked_list.head == None:\n",
    "        linked_list = LinkedList(Node(element))\n",
    "    else:\n",
    "        # Just assume first_node means we called Node class first time and so on ..,\n",
    "        # 1st: temp = first_node, 2nd: temp = new_node_1(new_node_1.next is first_node)\n",
    "        temp = linked_list.head\n",
    "        # overwriting head\n",
    "        # 1st: lineked_list.head = new_node_1, 2nd: linked_list.head = new_node_2\n",
    "        linked_list.head = Node(element)\n",
    "        # 1st: new_node.head.next = first_node, 2nd: new_node.head.next = new_node_1(new_node_1.next is first_node)\n",
    "        linked_list.head.next=temp"
   ]
  },
  {
   "cell_type": "code",
   "execution_count": 27,
   "id": "2c333dfe",
   "metadata": {},
   "outputs": [
    {
     "data": {
      "text/plain": [
       "['__class__',\n",
       " '__delattr__',\n",
       " '__dict__',\n",
       " '__dir__',\n",
       " '__doc__',\n",
       " '__eq__',\n",
       " '__format__',\n",
       " '__ge__',\n",
       " '__getattribute__',\n",
       " '__gt__',\n",
       " '__hash__',\n",
       " '__init__',\n",
       " '__init_subclass__',\n",
       " '__le__',\n",
       " '__lt__',\n",
       " '__module__',\n",
       " '__ne__',\n",
       " '__new__',\n",
       " '__reduce__',\n",
       " '__reduce_ex__',\n",
       " '__repr__',\n",
       " '__setattr__',\n",
       " '__sizeof__',\n",
       " '__str__',\n",
       " '__subclasshook__',\n",
       " '__weakref__',\n",
       " 'next',\n",
       " 'value']"
      ]
     },
     "execution_count": 27,
     "metadata": {},
     "output_type": "execute_result"
    }
   ],
   "source": [
    "insert_at_first(1)\n",
    "insert_at_first(2)\n",
    "insert_at_first(3)\n",
    "dir(linked_list.head)"
   ]
  },
  {
   "cell_type": "code",
   "execution_count": 31,
   "id": "32c9f370",
   "metadata": {},
   "outputs": [
    {
     "data": {
      "text/plain": [
       "3"
      ]
     },
     "execution_count": 31,
     "metadata": {},
     "output_type": "execute_result"
    }
   ],
   "source": [
    "# Always last insterted element to be the head\n",
    "linked_list.head.value"
   ]
  },
  {
   "cell_type": "code",
   "execution_count": null,
   "id": "67dc5316",
   "metadata": {},
   "outputs": [],
   "source": []
  }
 ],
 "metadata": {
  "kernelspec": {
   "display_name": "Python 3 (ipykernel)",
   "language": "python",
   "name": "python3"
  },
  "language_info": {
   "codemirror_mode": {
    "name": "ipython",
    "version": 3
   },
   "file_extension": ".py",
   "mimetype": "text/x-python",
   "name": "python",
   "nbconvert_exporter": "python",
   "pygments_lexer": "ipython3",
   "version": "3.10.2"
  }
 },
 "nbformat": 4,
 "nbformat_minor": 5
}
