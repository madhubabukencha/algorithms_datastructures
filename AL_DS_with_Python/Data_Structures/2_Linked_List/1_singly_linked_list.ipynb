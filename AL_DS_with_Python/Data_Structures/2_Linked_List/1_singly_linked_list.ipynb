{
 "cells": [
  {
   "cell_type": "markdown",
   "id": "d3c87abd",
   "metadata": {},
   "source": [
    "<center><font size=6 color=\"#00416d\">Singly Linked List</font></center>"
   ]
  },
  {
   "cell_type": "markdown",
   "id": "2fd613cf",
   "metadata": {},
   "source": [
    "In this notebook we will learn about how to construct a <strong> Singly Linked List</strong> and traverse through it"
   ]
  },
  {
   "cell_type": "markdown",
   "id": "09cd2c32",
   "metadata": {},
   "source": [
    "<strong> Singly Linked List </strong> is a collection of Nodes, that collectively forms Linear Sequence. In Linked List, each node has 2 parts. First part is there to store the element and second part is used to store the referece for next element. The first and last elements of the Linked List know as <b>head</b> and <b>tail</b> respectively. Except tail node(points to the null), every other node reference points to next element. The process of travelling through each node is know as traversing."
   ]
  },
  {
   "cell_type": "markdown",
   "id": "efe19799",
   "metadata": {},
   "source": [
    "<img src=\"images\\singly_linked_list.png\" alt=\"singly_linked_list\" style=\"width: 600px;\"/>"
   ]
  },
  {
   "cell_type": "code",
   "execution_count": 1,
   "id": "105c2c95",
   "metadata": {},
   "outputs": [],
   "source": [
    "class Node:\n",
    "    def __init__(self, value):\n",
    "        self.value = value\n",
    "        self.next = None"
   ]
  },
  {
   "cell_type": "code",
   "execution_count": 2,
   "id": "4bb0deb2",
   "metadata": {},
   "outputs": [],
   "source": [
    "class LinkedList:\n",
    "    def __init__(self):\n",
    "        self.head = None\n",
    "        \n",
    "    def print_values(self):\n",
    "        temp = self.head\n",
    "        while(temp):\n",
    "            print(temp.value)\n",
    "            # 1st: temp.next = second_obje, 2nd:second_obj = second_obj.next(third_obj), \n",
    "            # 3rd: third_obj=third.next(firth_obj)\n",
    "            temp = temp.next"
   ]
  },
  {
   "cell_type": "code",
   "execution_count": 3,
   "id": "57f23204",
   "metadata": {},
   "outputs": [],
   "source": [
    "# Storing elements\n",
    "first = Node(1)\n",
    "second = Node(2)\n",
    "third = Node(10)\n",
    "fourth = Node(200)"
   ]
  },
  {
   "cell_type": "code",
   "execution_count": 4,
   "id": "714ae0ba",
   "metadata": {},
   "outputs": [],
   "source": [
    "# Setting reference\n",
    "linked_list = LinkedList()\n",
    "linked_list.head = first\n",
    "linked_list.head.next = second\n",
    "second.next = third\n",
    "third.next = fourth"
   ]
  },
  {
   "cell_type": "code",
   "execution_count": 5,
   "id": "09c66dfa",
   "metadata": {},
   "outputs": [
    {
     "name": "stdout",
     "output_type": "stream",
     "text": [
      "1\n",
      "2\n",
      "10\n",
      "200\n"
     ]
    }
   ],
   "source": [
    "# Traversing through the entire linked list\n",
    "linked_list.print_values()"
   ]
  },
  {
   "cell_type": "code",
   "execution_count": 6,
   "id": "8c1a43f9",
   "metadata": {},
   "outputs": [
    {
     "name": "stdout",
     "output_type": "stream",
     "text": [
      "200\n"
     ]
    }
   ],
   "source": [
    "# Accessing last node value\n",
    "print(linked_list.head.next.next.next.value)"
   ]
  },
  {
   "cell_type": "code",
   "execution_count": 7,
   "id": "7495a312",
   "metadata": {},
   "outputs": [
    {
     "data": {
      "text/plain": [
       "1"
      ]
     },
     "execution_count": 7,
     "metadata": {},
     "output_type": "execute_result"
    }
   ],
   "source": [
    "# Accessing first node value\n",
    "linked_list.head.value"
   ]
  },
  {
   "cell_type": "code",
   "execution_count": 15,
   "id": "5ec10e49",
   "metadata": {},
   "outputs": [
    {
     "name": "stdout",
     "output_type": "stream",
     "text": [
      "['__class__', '__delattr__', '__dict__', '__dir__', '__doc__', '__eq__', '__format__', '__ge__', '__getattribute__', '__gt__', '__hash__', '__init__', '__init_subclass__', '__le__', '__lt__', '__module__', '__ne__', '__new__', '__reduce__', '__reduce_ex__', '__repr__', '__setattr__', '__sizeof__', '__str__', '__subclasshook__', '__weakref__', 'next', 'value']\n",
      "2\n"
     ]
    }
   ],
   "source": [
    "# Accessing second node value\n",
    "print(dir(linked_list.head.next))\n",
    "print(linked_list.head.next.value)"
   ]
  },
  {
   "cell_type": "code",
   "execution_count": 13,
   "id": "e96e302a",
   "metadata": {},
   "outputs": [
    {
     "name": "stdout",
     "output_type": "stream",
     "text": [
      "None\n"
     ]
    }
   ],
   "source": [
    "# Accessing last node reference\n",
    "print(linked_list.head.next.next.next.next)"
   ]
  }
 ],
 "metadata": {
  "kernelspec": {
   "display_name": "Python 3 (ipykernel)",
   "language": "python",
   "name": "python3"
  },
  "language_info": {
   "codemirror_mode": {
    "name": "ipython",
    "version": 3
   },
   "file_extension": ".py",
   "mimetype": "text/x-python",
   "name": "python",
   "nbconvert_exporter": "python",
   "pygments_lexer": "ipython3",
   "version": "3.10.2"
  }
 },
 "nbformat": 4,
 "nbformat_minor": 5
}
