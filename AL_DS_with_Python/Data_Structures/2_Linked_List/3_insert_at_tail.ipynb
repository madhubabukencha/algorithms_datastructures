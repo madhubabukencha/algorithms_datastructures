{
 "cells": [
  {
   "cell_type": "markdown",
   "id": "bac8c395",
   "metadata": {},
   "source": [
    "<center><font size=6 color=\"#00416d\">Insert Element at the END</font></center>"
   ]
  },
  {
   "cell_type": "markdown",
   "id": "5918513c",
   "metadata": {},
   "source": [
    "In this program we are trying to insert every new element at end of <b>Linked List</b>"
   ]
  },
  {
   "cell_type": "code",
   "execution_count": 5,
   "id": "ae300f1f",
   "metadata": {},
   "outputs": [],
   "source": [
    "# Tip: Run this script using pdb debugger for better understanding\n",
    "class Node:\n",
    "    \"\"\"\n",
    "    This class helps to create a node(value, reference) for each new element\n",
    "    \"\"\"\n",
    "    def __init__(self, value):\n",
    "        self.value = value\n",
    "        self.next = None\n",
    "\n",
    "head = None\n",
    "def insert_at_end(element):\n",
    "    \"\"\"\n",
    "    This function insert every new element at end of the linked list\n",
    "    \"\"\"\n",
    "    global head\n",
    "    new_node = Node(element)\n",
    "    if head == None:\n",
    "        head = new_node\n",
    "    else:\n",
    "        temp = head\n",
    "        while temp.next != None:\n",
    "            # Here we just updating 'temp' variable, it wouldn't impact  'head' variable\n",
    "            temp = temp.next\n",
    "        else:\n",
    "            # It will update the 'head' variable next value\n",
    "            temp.next = new_node"
   ]
  },
  {
   "cell_type": "code",
   "execution_count": 6,
   "id": "e965e86e",
   "metadata": {},
   "outputs": [
    {
     "name": "stdout",
     "output_type": "stream",
     "text": [
      "None\n",
      "1\n"
     ]
    }
   ],
   "source": [
    "insert_at_end(1)\n",
    "print(head.next)\n",
    "print(head.value)"
   ]
  },
  {
   "cell_type": "code",
   "execution_count": 7,
   "id": "e96185db",
   "metadata": {},
   "outputs": [
    {
     "name": "stdout",
     "output_type": "stream",
     "text": [
      "<__main__.Node object at 0x000001A36433C880>\n",
      "2\n",
      "None\n"
     ]
    }
   ],
   "source": [
    "insert_at_end(2)\n",
    "print(head.next)\n",
    "print(head.next.value)\n",
    "print(head.next.next)"
   ]
  },
  {
   "cell_type": "code",
   "execution_count": 8,
   "id": "64e880fe",
   "metadata": {},
   "outputs": [
    {
     "name": "stdout",
     "output_type": "stream",
     "text": [
      "<__main__.Node object at 0x000001A36433E8F0>\n",
      "3\n",
      "None\n"
     ]
    }
   ],
   "source": [
    "insert_at_end(3)\n",
    "print(head.next.next)\n",
    "print(head.next.next.value)\n",
    "print(head.next.next.next)"
   ]
  }
 ],
 "metadata": {
  "kernelspec": {
   "display_name": "Python 3 (ipykernel)",
   "language": "python",
   "name": "python3"
  },
  "language_info": {
   "codemirror_mode": {
    "name": "ipython",
    "version": 3
   },
   "file_extension": ".py",
   "mimetype": "text/x-python",
   "name": "python",
   "nbconvert_exporter": "python",
   "pygments_lexer": "ipython3",
   "version": "3.10.2"
  }
 },
 "nbformat": 4,
 "nbformat_minor": 5
}
