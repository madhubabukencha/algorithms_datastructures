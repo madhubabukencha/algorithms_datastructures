{
 "cells": [
  {
   "cell_type": "markdown",
   "id": "7be3d3fc",
   "metadata": {},
   "source": [
    "<center><font size=6 color=\"#00416d\">Inserting in an Array</font></center>"
   ]
  },
  {
   "cell_type": "markdown",
   "id": "67a2b6cd",
   "metadata": {},
   "source": [
    "We will write an algorithm for inserting an element in array"
   ]
  },
  {
   "cell_type": "code",
   "execution_count": 55,
   "id": "ce6ae476",
   "metadata": {},
   "outputs": [],
   "source": [
    "def insert(array, position, element):\n",
    "    \"\"\"\n",
    "    array: In which we insert an element\n",
    "    position: Position to insert in array(position_starts=1)\n",
    "    element: Element to insert\n",
    "    Note:\n",
    "    postion start from 1\n",
    "    index start from 0\n",
    "    \"\"\"\n",
    "    i = len(array)\n",
    "    # increasing size of an array by 1 element\n",
    "    array.append(0)\n",
    "    while i >= position:\n",
    "        print(f\"index:{i} element:{array[i-1]}\")\n",
    "        array[i] = array[i-1]\n",
    "        i = i-1\n",
    "    if position > len(array):\n",
    "        \"If user specifies very high position then it will simply inserts at the end\"\n",
    "        print(f\"index:{len(array)-1} element:{element}\")\n",
    "        array[len(array)-1] = element\n",
    "    else:\n",
    "        \"In while loop we move the elements, and finally here we are changing element at specified position\"\n",
    "        print(f\"index:{position-1} element:{element}\")\n",
    "        array[position-1] = element\n",
    "    print(array)"
   ]
  },
  {
   "cell_type": "code",
   "execution_count": 61,
   "id": "c41b1720",
   "metadata": {},
   "outputs": [
    {
     "name": "stdout",
     "output_type": "stream",
     "text": [
      "index:4 element:50\n",
      "index:3 element:40\n",
      "index:2 element:30\n",
      "index:1 element:20\n",
      "index:0 element:100\n",
      "[100, 20, 30, 40, 50]\n"
     ]
    }
   ],
   "source": [
    "# Insert at position 1(means at index 0)\n",
    "insert([20, 30, 40, 50], 1, 100)"
   ]
  },
  {
   "cell_type": "code",
   "execution_count": 62,
   "id": "7de27856",
   "metadata": {},
   "outputs": [
    {
     "name": "stdout",
     "output_type": "stream",
     "text": [
      "index:4 element:100\n",
      "[20, 30, 40, 50, 100]\n"
     ]
    }
   ],
   "source": [
    "# Specifiying very high possition, so it will append at the last\n",
    "insert([20, 30, 40, 50], 100, 100)"
   ]
  },
  {
   "cell_type": "code",
   "execution_count": 63,
   "id": "75991164",
   "metadata": {},
   "outputs": [
    {
     "name": "stdout",
     "output_type": "stream",
     "text": [
      "index:4 element:50\n",
      "index:3 element:40\n",
      "index:2 element:100\n",
      "[20, 30, 100, 40, 50]\n"
     ]
    }
   ],
   "source": [
    "# Insert at position 3(means at index 2)\n",
    "insert([20, 30, 40, 50], 3, 100)"
   ]
  },
  {
   "cell_type": "code",
   "execution_count": null,
   "id": "15d4ffa3",
   "metadata": {},
   "outputs": [],
   "source": []
  }
 ],
 "metadata": {
  "kernelspec": {
   "display_name": "Python 3",
   "language": "python",
   "name": "python3"
  },
  "language_info": {
   "codemirror_mode": {
    "name": "ipython",
    "version": 3
   },
   "file_extension": ".py",
   "mimetype": "text/x-python",
   "name": "python",
   "nbconvert_exporter": "python",
   "pygments_lexer": "ipython3",
   "version": "3.9.5"
  }
 },
 "nbformat": 4,
 "nbformat_minor": 5
}
