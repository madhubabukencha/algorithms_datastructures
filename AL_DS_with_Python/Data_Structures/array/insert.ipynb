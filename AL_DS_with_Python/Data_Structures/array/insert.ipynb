{
 "cells": [
  {
   "cell_type": "markdown",
   "id": "7be3d3fc",
   "metadata": {},
   "source": [
    "<center><font size=6 color=\"#00416d\">Inserting in an Array</font></center>"
   ]
  },
  {
   "cell_type": "markdown",
   "id": "67a2b6cd",
   "metadata": {},
   "source": [
    "We will write an algorithm for inserting an element in array"
   ]
  },
  {
   "cell_type": "code",
   "execution_count": 47,
   "id": "ce6ae476",
   "metadata": {},
   "outputs": [],
   "source": [
    "def insert(array, position, element):\n",
    "    \"\"\"\n",
    "    array: In which we insert an element\n",
    "    position: Position to insert in array(position_starts=1)\n",
    "    element: Element to insert\n",
    "    Note:\n",
    "    postion start from 0\n",
    "    \"\"\"\n",
    "    # increasing size of an array by 1 element\n",
    "    array.append(0)\n",
    "    i = len(array)-1\n",
    "    assert i >= position, f\"Position should be less than are equal to {i}\"\n",
    "    while i > position:\n",
    "        print(f\"index:{i} element:{array[i-1]}\")\n",
    "        array[i] = array[i-1]\n",
    "        i = i-1\n",
    "    print(f\"index:{position} element:{element}\")\n",
    "    array[position] = element\n",
    "    print(array)"
   ]
  },
  {
   "cell_type": "code",
   "execution_count": 48,
   "id": "c41b1720",
   "metadata": {},
   "outputs": [
    {
     "name": "stdout",
     "output_type": "stream",
     "text": [
      "index:4 element:50\n",
      "index:3 element:40\n",
      "index:2 element:30\n",
      "index:1 element:100\n",
      "[20, 100, 30, 40, 50]\n"
     ]
    }
   ],
   "source": [
    "# Insert at position 1(means at index 0)\n",
    "insert([20, 30, 40, 50], 1, 100)"
   ]
  },
  {
   "cell_type": "code",
   "execution_count": 49,
   "id": "75991164",
   "metadata": {},
   "outputs": [
    {
     "name": "stdout",
     "output_type": "stream",
     "text": [
      "index:4 element:100\n",
      "[20, 30, 40, 50, 100]\n"
     ]
    }
   ],
   "source": [
    "# Insert at position 3(means at index 2)\n",
    "insert([20, 30, 40, 50], 4, 100)"
   ]
  },
  {
   "cell_type": "code",
   "execution_count": 50,
   "id": "7d97f829",
   "metadata": {},
   "outputs": [
    {
     "ename": "AssertionError",
     "evalue": "Position should be less than are equal to 4",
     "output_type": "error",
     "traceback": [
      "\u001b[1;31m---------------------------------------------------------------------------\u001b[0m",
      "\u001b[1;31mAssertionError\u001b[0m                            Traceback (most recent call last)",
      "\u001b[1;32m<ipython-input-50-4645c633da23>\u001b[0m in \u001b[0;36m<module>\u001b[1;34m\u001b[0m\n\u001b[0;32m      1\u001b[0m \u001b[1;31m# Specifiying very high possition, so it will append at the last\u001b[0m\u001b[1;33m\u001b[0m\u001b[1;33m\u001b[0m\u001b[1;33m\u001b[0m\u001b[0m\n\u001b[1;32m----> 2\u001b[1;33m \u001b[0minsert\u001b[0m\u001b[1;33m(\u001b[0m\u001b[1;33m[\u001b[0m\u001b[1;36m20\u001b[0m\u001b[1;33m,\u001b[0m \u001b[1;36m30\u001b[0m\u001b[1;33m,\u001b[0m \u001b[1;36m40\u001b[0m\u001b[1;33m,\u001b[0m \u001b[1;36m50\u001b[0m\u001b[1;33m]\u001b[0m\u001b[1;33m,\u001b[0m \u001b[1;36m100\u001b[0m\u001b[1;33m,\u001b[0m \u001b[1;36m100\u001b[0m\u001b[1;33m)\u001b[0m\u001b[1;33m\u001b[0m\u001b[1;33m\u001b[0m\u001b[0m\n\u001b[0m",
      "\u001b[1;32m<ipython-input-47-d08fbe76cfe9>\u001b[0m in \u001b[0;36minsert\u001b[1;34m(array, position, element)\u001b[0m\n\u001b[0;32m     10\u001b[0m     \u001b[0marray\u001b[0m\u001b[1;33m.\u001b[0m\u001b[0mappend\u001b[0m\u001b[1;33m(\u001b[0m\u001b[1;36m0\u001b[0m\u001b[1;33m)\u001b[0m\u001b[1;33m\u001b[0m\u001b[1;33m\u001b[0m\u001b[0m\n\u001b[0;32m     11\u001b[0m     \u001b[0mi\u001b[0m \u001b[1;33m=\u001b[0m \u001b[0mlen\u001b[0m\u001b[1;33m(\u001b[0m\u001b[0marray\u001b[0m\u001b[1;33m)\u001b[0m\u001b[1;33m-\u001b[0m\u001b[1;36m1\u001b[0m\u001b[1;33m\u001b[0m\u001b[1;33m\u001b[0m\u001b[0m\n\u001b[1;32m---> 12\u001b[1;33m     \u001b[1;32massert\u001b[0m \u001b[0mi\u001b[0m \u001b[1;33m>=\u001b[0m \u001b[0mposition\u001b[0m\u001b[1;33m,\u001b[0m \u001b[1;34mf\"Position should be less than are equal to {i}\"\u001b[0m\u001b[1;33m\u001b[0m\u001b[1;33m\u001b[0m\u001b[0m\n\u001b[0m\u001b[0;32m     13\u001b[0m     \u001b[1;32mwhile\u001b[0m \u001b[0mi\u001b[0m \u001b[1;33m>\u001b[0m \u001b[0mposition\u001b[0m\u001b[1;33m:\u001b[0m\u001b[1;33m\u001b[0m\u001b[1;33m\u001b[0m\u001b[0m\n\u001b[0;32m     14\u001b[0m         \u001b[0mprint\u001b[0m\u001b[1;33m(\u001b[0m\u001b[1;34mf\"index:{i} element:{array[i-1]}\"\u001b[0m\u001b[1;33m)\u001b[0m\u001b[1;33m\u001b[0m\u001b[1;33m\u001b[0m\u001b[0m\n",
      "\u001b[1;31mAssertionError\u001b[0m: Position should be less than are equal to 4"
     ]
    }
   ],
   "source": [
    "# Specifiying very high possition, so it will append at the last\n",
    "insert([20, 30, 40, 50], 100, 100)"
   ]
  },
  {
   "cell_type": "code",
   "execution_count": null,
   "id": "457e8af1",
   "metadata": {},
   "outputs": [],
   "source": []
  }
 ],
 "metadata": {
  "kernelspec": {
   "display_name": "Python 3",
   "language": "python",
   "name": "python3"
  },
  "language_info": {
   "codemirror_mode": {
    "name": "ipython",
    "version": 3
   },
   "file_extension": ".py",
   "mimetype": "text/x-python",
   "name": "python",
   "nbconvert_exporter": "python",
   "pygments_lexer": "ipython3",
   "version": "3.9.5"
  }
 },
 "nbformat": 4,
 "nbformat_minor": 5
}
