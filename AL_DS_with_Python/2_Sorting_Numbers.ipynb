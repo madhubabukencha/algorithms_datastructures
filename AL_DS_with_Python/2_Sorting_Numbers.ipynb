{
 "cells": [
  {
   "cell_type": "code",
   "execution_count": 64,
   "metadata": {},
   "outputs": [
    {
     "name": "stdout",
     "output_type": "stream",
     "text": [
      "[0, 1, 1, 1, 2, 3, 3, 4, 4, 4, 5, 5, 5, 5, 5, 7, 8, 9, 9, 12, 14, 16, 17, 25, 100]\n",
      "0.0009756999988894677\n"
     ]
    }
   ],
   "source": [
    "import time\n",
    "\n",
    "# numbers = [4, 3, 7, 1, 2, 5, 6]\n",
    "numbers = [0, 1, 1, 1, 2, 3, 3, 4, 4, 4, 5, 5, 5, 5, 5, 7, 8, 9, 9, 12, 14, 16, 17, 25, 100]\n",
    "start = time.perf_counter()\n",
    "temp = []\n",
    "index = 0\n",
    "\n",
    "#count is need to end once list is sorted\n",
    "count = 0\n",
    "while True:\n",
    "    # time.sleep(0.5)\n",
    "    # print(numbers)\n",
    "    numbers = numbers\n",
    "    \n",
    "    # 2 3 4 5 6\n",
    "    # 0 1 2 3 4\n",
    "    if numbers[index] > numbers[index+1]:\n",
    "        count = 0\n",
    "        number = numbers[index + 1]\n",
    "        # After move forward deleting element in it's old position\n",
    "        del numbers[index + 1]\n",
    "        numbers.insert(index, number)\n",
    "        numbers = numbers\n",
    "        continue\n",
    "    elif numbers[index] < numbers[index+1]:\n",
    "        count += 1 \n",
    "        # print(\"Hey\")\n",
    "        # Index helps in taking decision\n",
    "        # if element is small than next element it will increase the position\n",
    "        index += 1\n",
    "        \n",
    "        # if index reached it's end but elements not sorted then we are again\n",
    "        # started sorting from start\n",
    "        if index == len(numbers) - 1:\n",
    "            index = 0\n",
    "        # If all elements sorted then count will be the length of sorted list\n",
    "        if count == len(numbers):\n",
    "            break\n",
    "        continue\n",
    "    # If elements are same and next each other then we are just incrementing index\n",
    "    elif numbers[index] == numbers[index+1]:\n",
    "        index += 1\n",
    "\n",
    "print(numbers)\n",
    "end = time.perf_counter()\n",
    "print(end-start)"
   ]
  },
  {
   "cell_type": "code",
   "execution_count": 60,
   "metadata": {},
   "outputs": [
    {
     "name": "stdout",
     "output_type": "stream",
     "text": [
      "[0, 1, 1, 1, 2, 3, 3, 4, 4, 4, 5, 5, 5, 5, 5, 7, 8, 9, 9, 12, 14, 16, 17, 25, 100]\n",
      "0.00045929999942018185\n"
     ]
    }
   ],
   "source": [
    "numbers = [1, 4, 5, 2, 1, 5, 8, 9, 0, 5, 3, 4 , 1, 5, 4, 7, 9, 3, 5, 12, 14, 17, 16, 25, 100]\n",
    "start = time.perf_counter()\n",
    "numbers.sort()\n",
    "print(numbers)\n",
    "end = time.perf_counter()\n",
    "print(end-start)"
   ]
  },
  {
   "cell_type": "code",
   "execution_count": 63,
   "metadata": {},
   "outputs": [
    {
     "name": "stdout",
     "output_type": "stream",
     "text": [
      "[0, 1, 1, 1, 2, 3, 3, 4, 4, 4, 5, 5, 5, 5, 5, 7, 8, 9, 9, 12, 14, 16, 17, 25, 100]\n",
      "0.0003919000009773299\n"
     ]
    }
   ],
   "source": [
    "start = time.perf_counter()\n",
    "def bubble_sort(nums):\n",
    "    # We set swapped to True so the loop looks runs at least once\n",
    "    swapped = True\n",
    "    while swapped:\n",
    "        swapped = False\n",
    "        for i in range(len(nums) - 1):\n",
    "            if nums[i] > nums[i + 1]:\n",
    "                # Swap the elements\n",
    "                nums[i], nums[i + 1] = nums[i + 1], nums[i]\n",
    "                # Set the flag to True so we'll loop again\n",
    "                swapped = True\n",
    "\n",
    "\n",
    "# Verify it works\n",
    "random_list_of_nums = [0, 1, 1, 1, 2, 3, 3, 4, 4, 4, 5, 5, 5, 5, 5, 7, 8, 9, 9, 12, 14, 16, 17, 25, 100]\n",
    "bubble_sort(random_list_of_nums)\n",
    "print(random_list_of_nums)\n",
    "end = time.perf_counter()\n",
    "print(end-start)"
   ]
  },
  {
   "cell_type": "code",
   "execution_count": null,
   "metadata": {},
   "outputs": [],
   "source": []
  }
 ],
 "metadata": {
  "kernelspec": {
   "display_name": "Python 3",
   "language": "python",
   "name": "python3"
  },
  "language_info": {
   "codemirror_mode": {
    "name": "ipython",
    "version": 3
   },
   "file_extension": ".py",
   "mimetype": "text/x-python",
   "name": "python",
   "nbconvert_exporter": "python",
   "pygments_lexer": "ipython3",
   "version": "3.8.3"
  }
 },
 "nbformat": 4,
 "nbformat_minor": 4
}
