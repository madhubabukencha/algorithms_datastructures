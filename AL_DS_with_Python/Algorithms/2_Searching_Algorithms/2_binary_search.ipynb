{
 "cells": [
  {
   "cell_type": "markdown",
   "id": "86c1056b",
   "metadata": {},
   "source": [
    "<center><font size=6 color=\"#00416d\">Binary Search</font></center>"
   ]
  },
  {
   "cell_type": "markdown",
   "id": "025c43cd",
   "metadata": {},
   "source": [
    "Unlike Linear Search, for performing <strong>Binary Search</strong> we need a sorted array. In Binary Search, we first divide an array in the middle and we compare whether key is greater than the middle element. If it is then we will ignore the left\n",
    "part of the middle element, if it's not then we will consider the left part. We will repeat this process until middle element is equal to key. If element not found then we will return 0."
   ]
  },
  {
   "cell_type": "code",
   "execution_count": null,
   "id": "d1f4c906",
   "metadata": {},
   "outputs": [],
   "source": [
    "from IPython.display import Image\n",
    "Image(filename='images/binary_search.gif')"
   ]
  },
  {
   "cell_type": "code",
   "execution_count": null,
   "id": "79dfd36f",
   "metadata": {},
   "outputs": [],
   "source": [
    "def binary_search(elements, start, end, key):\n",
    "    '''\n",
    "    elements: A let with elements\n",
    "    start: Starting index\n",
    "    end: Ending index\n",
    "    key: An element to find\n",
    "    '''\n",
    "    while(start <= end):\n",
    "        mid = (start+end)//2\n",
    "        if elements[mid] == key:\n",
    "            return 1\n",
    "        \n",
    "        if elements[mid] < key:\n",
    "            start = mid + 1\n",
    "        else:\n",
    "            end = mid - 1\n",
    "    return 0"
   ]
  },
  {
   "cell_type": "code",
   "execution_count": null,
   "id": "a312b570",
   "metadata": {},
   "outputs": [],
   "source": [
    "if binary_search([1, 10, 34, 108, 114, 500, 900], start=0, end=6, key=900):\n",
    "    print(\"Element Found\")\n",
    "else:\n",
    "    print(\"Element not found\")"
   ]
  },
  {
   "cell_type": "code",
   "execution_count": null,
   "id": "8cb7e056",
   "metadata": {},
   "outputs": [],
   "source": [
    "if binary_search([1, 10, 34, 108, 114, 500, 900], start=0, end=6, key=901):\n",
    "    print(\"Element Found\")\n",
    "else:\n",
    "    print(\"Element not found\")"
   ]
  },
  {
   "cell_type": "markdown",
   "id": "46f10df2",
   "metadata": {},
   "source": [
    "<font size=5 color=\"color:#290001;\">Time Complexity:</font><br><br>\n",
    "<strong>Best Case:</strong>O(1); <strong>Worst or Average Case:</strong>O(log<sub>2</sub>n)"
   ]
  },
  {
   "cell_type": "markdown",
   "id": "b05369ee",
   "metadata": {},
   "source": [
    "In Binary Search we are breaking list into half in each iteration until there is only one element <br>\n",
    "$$\\frac{n}{2}, \\frac{n}{4}, \\frac{n}{8} ... 1$$ <br>\n",
    "$$\\therefore \\frac{n}{2^1}, \\frac{n}{2^2}, \\frac{n}{2^3} ... 1 $$ <br>\n",
    "That is equal to,<br>\n",
    "$$\\Rightarrow \\frac{n}{2^k} = 1$$ <br>\n",
    "$$\\Rightarrow {n} = {2^k}$$ <br>\n",
    "Apply log base 2 on both sides\n",
    "$$\\Rightarrow {log_2}{2^k} = {log_2}{n}$$ <br>\n",
    "$$\\Rightarrow {k.log_2}{2} = {log_2}{n}\\hspace{0.5cm} {[From: {log_b (p^q)} = {q.log_b (p)}]}$$ <br>\n",
    "$$\\Rightarrow {k(1)} = {log_2}{n}\\hspace{0.5cm} {[From: {log_b (b) = 1}]}$$ <br>\n",
    "$$\\Rightarrow {k} = {log_2}{(n)}$$ <br>"
   ]
  },
  {
   "cell_type": "code",
   "execution_count": null,
   "id": "3a0d0aed",
   "metadata": {},
   "outputs": [],
   "source": [
    "# Let's say we have 8 elements in an array/list, then in worst case it will take 3 steps to find the element\n",
    "import numpy as np\n",
    "np.log2(8)"
   ]
  },
  {
   "cell_type": "code",
   "execution_count": null,
   "id": "5ee5f665",
   "metadata": {},
   "outputs": [],
   "source": []
  }
 ],
 "metadata": {
  "kernelspec": {
   "display_name": "Python 3",
   "language": "python",
   "name": "python3"
  },
  "language_info": {
   "codemirror_mode": {
    "name": "ipython",
    "version": 3
   },
   "file_extension": ".py",
   "mimetype": "text/x-python",
   "name": "python",
   "nbconvert_exporter": "python",
   "pygments_lexer": "ipython3",
   "version": "3.9.5"
  }
 },
 "nbformat": 4,
 "nbformat_minor": 5
}
