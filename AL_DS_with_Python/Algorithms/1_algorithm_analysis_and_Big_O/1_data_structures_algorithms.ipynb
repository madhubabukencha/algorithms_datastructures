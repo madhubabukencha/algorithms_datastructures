{
 "cells": [
  {
   "cell_type": "markdown",
   "metadata": {},
   "source": [
    "<center><font size=6 color=\"#00416d\">Data Structure and Algorithms</font></center>"
   ]
  },
  {
   "cell_type": "markdown",
   "metadata": {},
   "source": [
    "<font size=5 color=\"color:#290001;\">Data Structure:</font> <br>\n",
    "A <span style=\"background-color: #FFFF00\"> Data Structure</span> is a special format for organizing and storing data. General data types include Arrays, Files, Linked Lists, Stacks, Queues, Trees and Graphs etc..,"
   ]
  },
  {
   "cell_type": "markdown",
   "metadata": {},
   "source": [
    "<b>Types of Data Structures:</b><br>\n",
    "Mainly there are two types of data structures are there,\n",
    "<ol>\n",
    "    <li><b>Linear Data Structures</b>:</li>\n",
    "    Elements are accessed in sequencial order but it is not necessary to store all elements sequencially <br>\n",
    "    <b>eg</b>: Linked Lists, Stacks, Queues\n",
    "    <li><b>Non-Linear Data Structures </b>:</li>\n",
    "    Elements in the data structure stored and accessed in non-linear order <br>\n",
    "    <b>eg</b>: Trees and Graphs etc..,\n",
    "</ol>\n"
   ]
  },
  {
   "cell_type": "markdown",
   "metadata": {},
   "source": [
    "<font size=5 color=\"color:#290001;\">Algorithm:</font> <br>"
   ]
  },
  {
   "cell_type": "markdown",
   "metadata": {},
   "source": [
    "An <strong>algorithm</strong> is a set of rules or instructions in sequence to solve a problem"
   ]
  },
  {
   "cell_type": "code",
   "execution_count": null,
   "metadata": {},
   "outputs": [],
   "source": []
  }
 ],
 "metadata": {
  "kernelspec": {
   "display_name": "Python 3",
   "language": "python",
   "name": "python3"
  },
  "language_info": {
   "codemirror_mode": {
    "name": "ipython",
    "version": 3
   },
   "file_extension": ".py",
   "mimetype": "text/x-python",
   "name": "python",
   "nbconvert_exporter": "python",
   "pygments_lexer": "ipython3",
   "version": "3.9.5"
  }
 },
 "nbformat": 4,
 "nbformat_minor": 4
}
